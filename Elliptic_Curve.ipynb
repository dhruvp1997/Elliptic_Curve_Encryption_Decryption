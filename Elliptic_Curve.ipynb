{
  "nbformat": 4,
  "nbformat_minor": 0,
  "metadata": {
    "colab": {
      "name": "Copy of Assignment4.ipynb",
      "provenance": [],
      "collapsed_sections": []
    },
    "kernelspec": {
      "name": "python3",
      "display_name": "Python 3"
    },
    "language_info": {
      "name": "python"
    }
  },
  "cells": [
    {
      "cell_type": "markdown",
      "metadata": {
        "id": "uwgzBDr0niTQ"
      },
      "source": [
        "# Functions"
      ]
    },
    {
      "cell_type": "code",
      "metadata": {
        "id": "939E-3tvnh9K"
      },
      "source": [
        "def point_find(lam,x1,y1,x2,y2):\n",
        "  x3 = (lam ** 2 - x1 - x2) % p\n",
        "  y3 = (lam * (x1 - x3) - y1) % p\n",
        "  return x3,y3"
      ],
      "execution_count": null,
      "outputs": []
    },
    {
      "cell_type": "code",
      "metadata": {
        "id": "u-Ybxusbv28V"
      },
      "source": [
        "def modInverse(a, m):\n",
        "    for x in range(1, m):\n",
        "      if (((a%m) * (x%m)) % m == 1):\n",
        "        return x\n",
        "    return -1"
      ],
      "execution_count": null,
      "outputs": []
    },
    {
      "cell_type": "code",
      "metadata": {
        "id": "q0MHrgqMoUiL"
      },
      "source": [
        "def main_func(x1,y1,x2,y2,d,p,a,b):\n",
        "  if(d <= 0):\n",
        "    return x2, y2\n",
        "  if((x1 == x2) and (y1 == y2)):\n",
        "\n",
        "    lam = (((3*(x1**2)) + a )* modInverse((2 * y1),p)) % p\n",
        "    print(\"\\nYour lambda:\",lam)\n",
        "    x2, y2 = point_find(lam,x1,y1,x2,y2)\n",
        "    print(\"X: \",x2,\" Y: \",y2,\"\\n\")\n",
        "    d = d - 2\n",
        "  else:\n",
        "\n",
        "    lam = ((y2 - y1) * modInverse((x2 - x1),p)) % p\n",
        "    print(\"\\nYour lambda:\",lam)\n",
        "    x2, y2 = point_find(lam,x1,y1,x2,y2)\n",
        "    print(\"X: \",x2,\" Y: \",y2,\"\\n\")\n",
        "    d = d - 1\n",
        "  return main_func(x1,y1,x2,y2,d,p,a,b)"
      ],
      "execution_count": null,
      "outputs": []
    },
    {
      "cell_type": "markdown",
      "source": [
        "# Elliptic curve"
      ],
      "metadata": {
        "id": "2CsKnkrEhebb"
      }
    },
    {
      "cell_type": "markdown",
      "metadata": {
        "id": "xz5O4qADgo_T"
      },
      "source": [
        "# Encryption"
      ]
    },
    {
      "cell_type": "code",
      "metadata": {
        "colab": {
          "base_uri": "https://localhost:8080/"
        },
        "id": "8kcPo9LYNC8S",
        "outputId": "dbdfd5d9-1311-43e0-d904-d6dad5b13da3"
      },
      "source": [
        "import math\n",
        "m = 8\n",
        "p = 19\n",
        "d = 3\n",
        "r = 3\n",
        "a = 3\n",
        "b = 5\n",
        "p1x, p1y = 1 , 3\n",
        "# to find m\n",
        "x1 = m\n",
        "y1 = int(math.sqrt((m ** 3 + a*m + b) % p))\n",
        "print(\"m is ({},{})\".format(x1,y1))\n",
        "x2, y2 = 4, 10\n",
        "# to find rQ\n",
        "print(\"rQ is {}*({},{})\".format(r,x2,y2))\n",
        "x2, y2 = main_func(x2,y2,x2,y2,r,p,a,b)\n",
        "print(\"rQ ans is ({},{})\".format(x2,y2),\"\\n\")\n",
        "\n",
        "c1x,c1y = main_func(x1,y1,x2,y2,1,p,a,b)\n",
        "c2x,c2y = main_func(p1x,p1y,p1x,p1y,r,p,a,b)\n",
        "print(\"C1 is ({},{})\".format(c1x,c1y))\n",
        "print(\"C2 is ({},{})\".format(c2x,c2y))"
      ],
      "execution_count": null,
      "outputs": [
        {
          "output_type": "stream",
          "name": "stdout",
          "text": [
            "m is (8,3)\n",
            "rQ is 3*(4,10)\n",
            "\n",
            "Your lambda: 13\n",
            "X:  9  Y:  1 \n",
            "\n",
            "\n",
            "Your lambda: 2\n",
            "X:  10  Y:  16 \n",
            "\n",
            "rQ ans is (10,16) \n",
            "\n",
            "\n",
            "Your lambda: 16\n",
            "X:  10  Y:  3 \n",
            "\n",
            "\n",
            "Your lambda: 1\n",
            "X:  18  Y:  18 \n",
            "\n",
            "\n",
            "Your lambda: 2\n",
            "X:  4  Y:  10 \n",
            "\n",
            "C1 is (10,3)\n",
            "C2 is (4,10)\n"
          ]
        }
      ]
    },
    {
      "cell_type": "markdown",
      "metadata": {
        "id": "PhX4wxqGmIeh"
      },
      "source": [
        "# Decryption"
      ]
    },
    {
      "cell_type": "code",
      "metadata": {
        "colab": {
          "base_uri": "https://localhost:8080/"
        },
        "id": "vxXboXQmTiPT",
        "outputId": "d3f80e95-639d-4f96-8a91-f1c8bb3bb1a2"
      },
      "source": [
        "x2,y2 = main_func(c2x,c2y,c2x,c2y,d,p,a,b)\n",
        "print(\"C1 is ({},{})\".format(c1x,c1y))\n",
        "print(\"dC2 is ({},{})\".format(x2,y2))\n",
        "y2 = -y2 % p\n",
        "# print(x2,y2,c1x,c1y)\n",
        "\n",
        "m1x, m2y = main_func(c1x,c1y,x2,y2,1,p,a,b)\n",
        "print(\"m is ({},{})\".format(m1x,m2y))"
      ],
      "execution_count": null,
      "outputs": [
        {
          "output_type": "stream",
          "name": "stdout",
          "text": [
            "\n",
            "Your lambda: 13\n",
            "X:  9  Y:  1 \n",
            "\n",
            "\n",
            "Your lambda: 2\n",
            "X:  10  Y:  16 \n",
            "\n",
            "C1 is (10,3)\n",
            "dC2 is (10,16)\n",
            "\n",
            "Your lambda: 3\n",
            "X:  8  Y:  3 \n",
            "\n",
            "m is (8,3)\n"
          ]
        }
      ]
    },
    {
      "cell_type": "markdown",
      "metadata": {
        "id": "l_DELrXnDGdq"
      },
      "source": [
        "# ECDSA"
      ]
    },
    {
      "cell_type": "code",
      "metadata": {
        "colab": {
          "base_uri": "https://localhost:8080/"
        },
        "id": "53zEJ-q7DKo9",
        "outputId": "1d027fee-1edd-4450-a891-4e8d95d2f82d"
      },
      "source": [
        "# Alice Elliptic Curve cryptosystem\n",
        "def hash_function(m,n):\n",
        "  m = m % n\n",
        "  return m\n",
        "p=5\n",
        "a=4\n",
        "b=1\n",
        "px,py=0,1\n",
        "n = 8\n",
        "d=5\n",
        "qx,qy = 1,1\n",
        "mess=2\n",
        "k = 3\n",
        "# R = kP\n",
        "####################\n",
        "####################\n",
        "# Signature by Alice\n",
        "print(\"Alice signs on message m = {}\".format(mess))\n",
        "x1, x2 = main_func(px,py,px,py,k,p,a,b)\n",
        "print(\"1. Selects k = {}\".format(k))\n",
        "print(\"2. R = {}P = (x1={},x2={})\".format(k,x1,x2))\n",
        "# print(x1,x2)\n",
        "e = hash_function(mess,n)\n",
        "s = ((modInverse(k,n) * (e+d*x1)) % n)\n",
        "print(\"3. s = {}^-1 * ({}+{}*{}) mod {} = {}\".format(k,e,d,x1,n,s))\n",
        "print(\"4. Alice signature on message {} is ({},{})\".format(mess,x1,s))\n",
        "print(\"\\n\")\n",
        "####################\n",
        "####################\n",
        "# Verification by Bob\n",
        "e = hash_function(mess,n)\n",
        "w = (modInverse(s,n) % n)\n",
        "u1 = (e * w) % n\n",
        "u2 = (x1 * w) % n\n",
        "print(\"Verification by Bob\")\n",
        "print(\"1. w = {}^-1 mod {} = {}\".format(s,n,w))\n",
        "print(\"2. u1 = {} and u2 = {}\".format(u1,u2))\n",
        "u1Px, u1Py = main_func(px,py,px,py,u1,p,a,b)\n",
        "u2Qx, u2Qy = main_func(qx,qy,qx,qy,u2,p,a,b)\n",
        "x1des, x2des = main_func(u1Px,u1Py,u2Qx,u2Qy,1,p,a,b)\n",
        "print(\"3. X={}({},{})+{}({},{})\".format(u1,px,py,u2,qx,qy))\n",
        "print(\"    =({},{})+({},{})\".format(u1Px,u1Py,u2Qx,u2Qy))\n",
        "print(\"    =({},{})\".format(x1des,x2des))\n",
        "if(x1des == x1):\n",
        "  print(\"4. Bob accepts the signature\")\n",
        "else:\n",
        "  print(\"4. Bob deny the signature\")"
      ],
      "execution_count": null,
      "outputs": [
        {
          "output_type": "stream",
          "name": "stdout",
          "text": [
            "Alice signs on message m = 2\n",
            "\n",
            "Your lambda: 2\n",
            "X:  4  Y:  1 \n",
            "\n",
            "\n",
            "Your lambda: 0\n",
            "X:  1  Y:  4 \n",
            "\n",
            "1. Selects k = 3\n",
            "2. R = 3P = (x1=1,x2=4)\n",
            "3. s = 3^-1 * (2+5*1) mod 8 = 5\n",
            "4. Alice signature on message 2 is (1,5)\n",
            "\n",
            "\n",
            "Verification by Bob\n",
            "1. w = 5^-1 mod 8 = 5\n",
            "2. u1 = 2 and u2 = 5\n",
            "\n",
            "Your lambda: 2\n",
            "X:  4  Y:  1 \n",
            "\n",
            "\n",
            "Your lambda: 1\n",
            "X:  4  Y:  1 \n",
            "\n",
            "\n",
            "Your lambda: 0\n",
            "X:  0  Y:  4 \n",
            "\n",
            "\n",
            "Your lambda: 2\n",
            "X:  3  Y:  0 \n",
            "\n",
            "\n",
            "Your lambda: 2\n",
            "X:  0  Y:  1 \n",
            "\n",
            "\n",
            "Your lambda: 0\n",
            "X:  1  Y:  4 \n",
            "\n",
            "3. X=2(0,1)+5(1,1)\n",
            "    =(4,1)+(0,1)\n",
            "    =(1,4)\n",
            "4. Bob accepts the signature\n"
          ]
        }
      ]
    },
    {
      "cell_type": "code",
      "metadata": {
        "colab": {
          "base_uri": "https://localhost:8080/"
        },
        "id": "FwePiHTuoMab",
        "outputId": "6594eef7-4f1c-4773-9d24-f5d29279a74b"
      },
      "source": [
        "# Alice Elliptic Curve cryptosystem\n",
        "def hash_function(m,n):\n",
        "  m = m\n",
        "  return m\n",
        "p=5\n",
        "a=4\n",
        "b=1\n",
        "px,py=0,1\n",
        "n = 8\n",
        "d=5\n",
        "qx,qy = 1,1\n",
        "mess=2\n",
        "k = 3\n",
        "# R = kP\n",
        "####################\n",
        "####################\n",
        "# Signature by Alice\n",
        "print(\"Alice signs on message m = {}\".format(mess))\n",
        "x1, x2 = main_func(px,py,px,py,k,p,a,b)\n",
        "print(\"1. Selects k = {}\".format(k))\n",
        "print(\"2. R = {}P = (x1={},x2={})\".format(k,x1,x2))\n",
        "# print(x1,x2)\n",
        "e = hash_function(mess,n)\n",
        "s = ((modInverse(k,n) * (e+d*x1)) % n)\n",
        "print(\"3. s = {}^-1 * ({}+{}*{}) mod {} = {}\".format(k,e,d,x1,n,s))\n",
        "print(\"4. Alice signature on message {} is ({},{})\".format(mess,x1,s))\n",
        "print(\"\\n\")\n",
        "####################\n",
        "####################\n",
        "# Verification by Bob\n",
        "e = hash_function(mess,n)\n",
        "w = (modInverse(s,n) % n)\n",
        "u1 = (e * w) % n\n",
        "u2 = (x1 * w) % n\n",
        "print(\"Verification by Bob\")\n",
        "print(\"1. w = {}^-1 mod {} = {}\".format(s,n,w))\n",
        "print(\"2. u1 = {} and u2 = {}\".format(u1,u2))\n",
        "u1Px, u1Py = main_func(px,py,px,py,u1,p,a,b)\n",
        "u2Qx, u2Qy = main_func(qx,qy,qx,qy,u2,p,a,b)\n",
        "x1des, x2des = main_func(u1Px,u1Py,u2Qx,u2Qy,1,p,a,b)\n",
        "print(\"3. X={}({},{})+{}({},{})\".format(u1,px,py,u2,qx,qy))\n",
        "print(\"    =({},{})+({},{})\".format(u1Px,u1Py,u2Qx,u2Qy))\n",
        "print(\"    =({},{})\".format(x1des,x2des))\n",
        "if(x1des == x1):\n",
        "  print(\"4. x1des = {}, x1 = {}, so Bob accepts the signature\".format(x1des,x1))\n",
        "else:\n",
        "  print(\"4. x1des = {}, x1 = {}, so Bob deny the signature\".format(x1des,x1))"
      ],
      "execution_count": null,
      "outputs": [
        {
          "output_type": "stream",
          "name": "stdout",
          "text": [
            "Alice signs on message m = 2\n",
            "\n",
            "Your lambda: 2\n",
            "X:  4  Y:  1 \n",
            "\n",
            "\n",
            "Your lambda: 0\n",
            "X:  1  Y:  4 \n",
            "\n",
            "1. Selects k = 3\n",
            "2. R = 3P = (x1=1,x2=4)\n",
            "3. s = 3^-1 * (2+5*1) mod 8 = 5\n",
            "4. Alice signature on message 2 is (1,5)\n",
            "\n",
            "\n",
            "Verification by Bob\n",
            "1. w = 5^-1 mod 8 = 5\n",
            "2. u1 = 2 and u2 = 5\n",
            "\n",
            "Your lambda: 2\n",
            "X:  4  Y:  1 \n",
            "\n",
            "\n",
            "Your lambda: 1\n",
            "X:  4  Y:  1 \n",
            "\n",
            "\n",
            "Your lambda: 0\n",
            "X:  0  Y:  4 \n",
            "\n",
            "\n",
            "Your lambda: 2\n",
            "X:  3  Y:  0 \n",
            "\n",
            "\n",
            "Your lambda: 2\n",
            "X:  0  Y:  1 \n",
            "\n",
            "\n",
            "Your lambda: 0\n",
            "X:  1  Y:  4 \n",
            "\n",
            "3. X=2(0,1)+5(1,1)\n",
            "    =(4,1)+(0,1)\n",
            "    =(1,4)\n",
            "4. x1des = 1, x1 = 1, so Bob accepts the signature\n"
          ]
        }
      ]
    },
    {
      "cell_type": "markdown",
      "metadata": {
        "id": "9yYvMYiVBRNM"
      },
      "source": [
        "# ECDHKE(Elliptic Curve Deffie-Hellman Key Exchange)"
      ]
    },
    {
      "cell_type": "code",
      "metadata": {
        "colab": {
          "base_uri": "https://localhost:8080/"
        },
        "id": "2xRqb4dPsqKZ",
        "outputId": "7b338df0-53f3-4382-b64a-d66330bb9261"
      },
      "source": [
        "a=9\n",
        "b=17\n",
        "ad=2\n",
        "bd=3\n",
        "p=23\n",
        "px,py =4,5\n",
        "Apx, Apy = main_func(px,py,px,py,ad,p,a,b)\n",
        "Bpx,Bpy = main_func(px,py,px,py,bd,p,a,b)\n",
        "print(Apx,Apy)\n",
        "print(Bpx,Bpy)\n",
        "APpx, APpy = main_func(Bpx,Bpy,Bpx,Bpy,ad,p,a,b)\n",
        "BPpx, BPpy = main_func(Apx,Apy,Apx,Apy,bd,p,a,b)\n",
        "print(APpx, APpy)\n",
        "print(BPpx, BPpy)"
      ],
      "execution_count": null,
      "outputs": [
        {
          "output_type": "stream",
          "name": "stdout",
          "text": [
            "\n",
            "Your lambda: 8\n",
            "X:  10  Y:  16 \n",
            "\n",
            "\n",
            "Your lambda: 8\n",
            "X:  10  Y:  16 \n",
            "\n",
            "\n",
            "Your lambda: 21\n",
            "X:  13  Y:  13 \n",
            "\n",
            "10 16\n",
            "13 13\n",
            "\n",
            "Your lambda: 11\n",
            "X:  3  Y:  5 \n",
            "\n",
            "\n",
            "Your lambda: 19\n",
            "X:  19  Y:  20 \n",
            "\n",
            "\n",
            "Your lambda: 3\n",
            "X:  3  Y:  5 \n",
            "\n",
            "3 5\n",
            "3 5\n"
          ]
        }
      ]
    },
    {
      "cell_type": "code",
      "metadata": {
        "colab": {
          "base_uri": "https://localhost:8080/"
        },
        "id": "PF2RO3KTDkO3",
        "outputId": "16a7a5ad-bbba-4193-e64c-23d10641d44d"
      },
      "source": [
        "# System setup\n",
        "a=1\n",
        "b=1\n",
        "ad=3\n",
        "bd=4\n",
        "p=11\n",
        "px,py =1,5\n",
        "# Step 1\n",
        "print(\"Step: 1\")\n",
        "Apx, Apy = main_func(px,py,px,py,ad,p,a,b)\n",
        "Bpx,Bpy = main_func(px,py,px,py,bd,p,a,b)\n",
        "print(\"Alice chooses a={}, computes {}P = ({},{}), and send it to Bob\".format(ad,ad,Apx,Apy))\n",
        "print(\"Bob chooses b={}, computes {}P = ({},{}), and send it to Alice\".format(bd,bd,Bpx,Bpy))\n",
        "# Step 2\n",
        "print(\"Step: 2\")\n",
        "APpx, APpy = main_func(Bpx,Bpy,Bpx,Bpy,ad,p,a,b)\n",
        "BPpx, BPpy = main_func(Apx,Apy,Apx,Apy,bd,p,a,b)\n",
        "print(\"Alice receives Q2=({},{}) and performs {}Q2 = ({},{})\".format(Bpx,Bpy,ad,APpx, APpy))\n",
        "print(\"Bob receives Q2=({},{}) and performs {}Q2 = ({},{})\".format(Apx,Apy,bd,BPpx, BPpy))"
      ],
      "execution_count": null,
      "outputs": [
        {
          "output_type": "stream",
          "name": "stdout",
          "text": [
            "Step: 1\n",
            "\n",
            "Your lambda: 7\n",
            "X:  3  Y:  3 \n",
            "\n",
            "\n",
            "Your lambda: 10\n",
            "X:  8  Y:  2 \n",
            "\n",
            "\n",
            "Your lambda: 7\n",
            "X:  3  Y:  3 \n",
            "\n",
            "\n",
            "Your lambda: 10\n",
            "X:  8  Y:  2 \n",
            "\n",
            "\n",
            "Your lambda: 9\n",
            "X:  6  Y:  5 \n",
            "\n",
            "Alice chooses a=3, computes 3P = (8,2), and send it to Bob\n",
            "Bob chooses b=4, computes 4P = (6,5), and send it to Alice\n",
            "Step: 2\n",
            "\n",
            "Your lambda: 1\n",
            "X:  0  Y:  1 \n",
            "\n",
            "\n",
            "Your lambda: 8\n",
            "X:  3  Y:  8 \n",
            "\n",
            "\n",
            "Your lambda: 7\n",
            "X:  0  Y:  10 \n",
            "\n",
            "\n",
            "Your lambda: 10\n",
            "X:  4  Y:  5 \n",
            "\n",
            "\n",
            "Your lambda: 2\n",
            "X:  3  Y:  8 \n",
            "\n",
            "Alice receives Q2=(6,5) and performs 3Q2 = (3,8)\n",
            "Bob receives Q2=(8,2) and performs 4Q2 = (3,8)\n"
          ]
        }
      ]
    }
  ]
}